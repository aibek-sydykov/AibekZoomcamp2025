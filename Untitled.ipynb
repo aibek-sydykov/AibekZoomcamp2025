{
 "cells": [
  {
   "cell_type": "code",
   "execution_count": 1,
   "id": "f6b7ce26-68d8-4ba6-b85b-3063c1417474",
   "metadata": {},
   "outputs": [
    {
     "name": "stdout",
     "output_type": "stream",
     "text": [
      "Hello world in Codespaces!\n"
     ]
    }
   ],
   "source": [
    "print(\"Hello world in Codespaces!\")"
   ]
  },
  {
   "cell_type": "code",
   "execution_count": null,
   "id": "8d5af981-0a98-4909-a225-36297fc3149e",
   "metadata": {},
   "outputs": [],
   "source": []
  }
 ],
 "metadata": {
  "kernelspec": {
   "display_name": "Python 3 (ipykernel)",
   "language": "python",
   "name": "python3"
  },
  "language_info": {
   "codemirror_mode": {
    "name": "ipython",
    "version": 3
   },
   "file_extension": ".py",
   "mimetype": "text/x-python",
   "name": "python",
   "nbconvert_exporter": "python",
   "pygments_lexer": "ipython3",
   "version": "3.12.1"
  }
 },
 "nbformat": 4,
 "nbformat_minor": 5
}
